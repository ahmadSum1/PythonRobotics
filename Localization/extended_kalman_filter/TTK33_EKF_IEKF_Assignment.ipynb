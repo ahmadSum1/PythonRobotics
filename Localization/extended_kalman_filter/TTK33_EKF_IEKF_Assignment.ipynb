{
  "nbformat": 4,
  "nbformat_minor": 0,
  "metadata": {
    "colab": {
      "provenance": [],
      "collapsed_sections": [],
      "authorship_tag": "ABX9TyPOF5U4pciob9M+epSN30M7",
      "include_colab_link": true
    },
    "kernelspec": {
      "name": "python3",
      "display_name": "Python 3"
    },
    "language_info": {
      "name": "python"
    }
  },
  "cells": [
    {
      "cell_type": "markdown",
      "metadata": {
        "id": "view-in-github",
        "colab_type": "text"
      },
      "source": [
        "<a href=\"https://colab.research.google.com/github/ahmadSum1/PythonRobotics/blob/skb_test/Localization/extended_kalman_filter/TTK33_EKF_IEKF_Assignment.ipynb\" target=\"_parent\"><img src=\"https://colab.research.google.com/assets/colab-badge.svg\" alt=\"Open In Colab\"/></a>"
      ]
    },
    {
      "cell_type": "markdown",
      "source": [
        "\"\"\"\n",
        "\n",
        "Extended kalman filter (EKF) localization for asynchronus sensors\n",
        "\n",
        "author: Sakib Ahmed (@ahmadSum1)\n",
        "modified upon Atsushi Sakai (@Atsushi_twi) 's implementation\n",
        "\n",
        "\"\"\""
      ],
      "metadata": {
        "id": "TFKBj5WDYp3X"
      }
    },
    {
      "cell_type": "code",
      "source": [
        "# Library imports\n",
        "\n",
        "# import sys\n",
        "# import pathlib\n",
        "# sys.path.append(str(pathlib.Path(__file__).parent.parent.parent))\n",
        "\n",
        "import math\n",
        "# import matplotlib\n",
        "# matplotlib.use('GTK3Agg')\n",
        "import matplotlib.pyplot as plt\n",
        "from IPython.display import display, clear_output\n",
        "# from enum import auto\n",
        "import numpy as np\n",
        "np.random.seed(0)\n",
        "\n",
        "from scipy.spatial.transform import Rotation as Rot"
      ],
      "metadata": {
        "id": "mF8LjCtysNZq"
      },
      "execution_count": null,
      "outputs": []
    },
    {
      "cell_type": "code",
      "source": [
        "# mean=[0,0]\n",
        "# cov=[[1, 0], [0, 1]]\n",
        "# np.random.default_rng().multivariate_normal(mean, cov, (2,1)).shape"
      ],
      "metadata": {
        "colab": {
          "base_uri": "https://localhost:8080/"
        },
        "id": "Y7ECTFu0oTpa",
        "outputId": "ae7c43de-a568-4700-e4a3-3b920b76d813"
      },
      "execution_count": null,
      "outputs": [
        {
          "output_type": "execute_result",
          "data": {
            "text/plain": [
              "(2, 1, 2)"
            ]
          },
          "metadata": {},
          "execution_count": 90
        }
      ]
    },
    {
      "cell_type": "code",
      "source": [
        "## rotation function\n",
        "def rot_mat_2d(angle):\n",
        "    \"\"\"\n",
        "    Create 2D rotation matrix from an angle\n",
        "\n",
        "    Parameters\n",
        "    ----------\n",
        "    angle :\n",
        "\n",
        "    Returns\n",
        "    -------\n",
        "    A 2D rotation matrix\n",
        "    \"\"\"\n",
        "    return Rot.from_euler('z', angle).as_matrix()[0:2, 0:2]\n",
        "\n",
        "\n",
        "# Covariance for EKF simulation\n",
        "Q = np.diag([\n",
        "    0.1,  # variance of location on x-axis\n",
        "    0.1,  # variance of location on y-axis\n",
        "    np.deg2rad(1.0),  # variance of yaw angle\n",
        "    0.5  # variance of velocity\n",
        "    ]) ** 2  # predict state covariance\n",
        "R = 10.25 * np.diag([1.0, 1.0]) ** 2  # Observation x,y position covariance\n",
        "\n",
        "#  Simulation parameter\n",
        "ODOM_NOISE = np.diag([1.0, np.deg2rad(30.0)]) ** 2\n",
        "GPS_NOISE = np.diag([0.5, 0.5]) ** 2\n",
        "\n",
        "f_odom = 100 #measurement frequency of velocity and yaw rate\n",
        "f_gps = 1 #measurement frequency of position\n",
        "\n",
        "DT = 1/f_odom  # time tick [s]\n",
        "\n",
        "\n",
        "# show_animation = True\n",
        "\n",
        "# genarates the trajectory\n",
        "def calc_input(ccw=True):\n",
        "    v = 1.0  # [m/s]\n",
        "    if ccw:\n",
        "        yawrate = 0.1  # [rad/s]\n",
        "    else:\n",
        "        yawrate = -0.1  # [rad/s]\n",
        "    u = np.array([[v], [yawrate]])\n",
        "    return u\n",
        "\n",
        "\n",
        "def observation_IMU_Odom(xdr, u):\n",
        "    \n",
        "    # add noise to input\n",
        "    ud = u + ODOM_NOISE @ np.random.normal( size=(2, 1))  #gaussian noise\n",
        "\n",
        "    xdr = motion_model(xdr, ud)  #dead rekoning position\n",
        "\n",
        "    return xdr, ud\n",
        "\n",
        "def observation_z(xTrue):\n",
        "    \n",
        "    # add noise to gps x-y\n",
        "    z = observation_model(xTrue) + GPS_NOISE @ np.random.normal( size=(2, 1))\n",
        "\n",
        "    return z\n",
        "\n",
        "\n",
        "\n",
        "def motion_model(x, u):\n",
        "    F = np.array([[1.0, 0, 0, 0],\n",
        "                  [0, 1.0, 0, 0],\n",
        "                  [0, 0, 1.0, 0],\n",
        "                  [0, 0, 0, 0]])\n",
        "\n",
        "    B = np.array([[DT * math.cos(x[2, 0]), 0],\n",
        "                  [DT * math.sin(x[2, 0]), 0],\n",
        "                  [0.0, DT],\n",
        "                  [1.0, 0.0]])\n",
        "\n",
        "    x = F @ x + B @ u\n",
        "\n",
        "    return x\n",
        "\n",
        "\n",
        "def observation_model(x):\n",
        "    H = np.array([\n",
        "        [1, 0, 0, 0],\n",
        "        [0, 1, 0, 0]\n",
        "    ])\n",
        "\n",
        "    z = H @ x\n",
        "\n",
        "    return z\n",
        "\n",
        "\n",
        "def jacob_f(x, u):\n",
        "    \"\"\"\n",
        "    Jacobian of Motion Model\n",
        "\n",
        "    motion model\n",
        "    x_{t+1} = x_t+v*dt*cos(yaw)\n",
        "    y_{t+1} = y_t+v*dt*sin(yaw)\n",
        "    yaw_{t+1} = yaw_t+omega*dt\n",
        "    v_{t+1} = v{t}\n",
        "    so\n",
        "    dx/dyaw = -v*dt*sin(yaw)\n",
        "    dx/dv = dt*cos(yaw)\n",
        "    dy/dyaw = v*dt*cos(yaw)\n",
        "    dy/dv = dt*sin(yaw)\n",
        "    \"\"\"\n",
        "    yaw = x[2, 0]\n",
        "    v = u[0, 0]\n",
        "    jF = np.array([\n",
        "        [1.0, 0.0, -DT * v * math.sin(yaw), DT * math.cos(yaw)],\n",
        "        [0.0, 1.0, DT * v * math.cos(yaw), DT * math.sin(yaw)],\n",
        "        [0.0, 0.0, 1.0, 0.0],\n",
        "        [0.0, 0.0, 0.0, 1.0]])\n",
        "\n",
        "    return jF\n",
        "\n",
        "\n",
        "def jacob_h():\n",
        "    # Jacobian of Observation Model\n",
        "    jH = np.array([\n",
        "        [1, 0, 0, 0],\n",
        "        [0, 1, 0, 0]\n",
        "    ])\n",
        "\n",
        "    return jH\n",
        "    "
      ],
      "metadata": {
        "id": "WPP6YORuX7bI"
      },
      "execution_count": null,
      "outputs": []
    },
    {
      "cell_type": "code",
      "source": [
        "def plot_covariance_ellipse(xEst, PEst):  # pragma: no cover\n",
        "    Pxy = PEst[0:2, 0:2]\n",
        "    eigval, eigvec = np.linalg.eig(Pxy)\n",
        "\n",
        "    if eigval[0] >= eigval[1]:\n",
        "        bigind = 0\n",
        "        smallind = 1\n",
        "    else:\n",
        "        bigind = 1\n",
        "        smallind = 0\n",
        "\n",
        "    t = np.arange(0, 2 * math.pi + 0.1, 0.1)\n",
        "    a = math.sqrt(eigval[bigind])\n",
        "    b = math.sqrt(eigval[smallind])\n",
        "    x = [a * math.cos(it) for it in t]\n",
        "    y = [b * math.sin(it) for it in t]\n",
        "    angle = math.atan2(eigvec[1, bigind], eigvec[0, bigind])\n",
        "    fx = rot_mat_2d(angle) @ (np.array([x, y]))\n",
        "    px = np.array(fx[0, :] + xEst[0, 0]).flatten()\n",
        "    py = np.array(fx[1, :] + xEst[1, 0]).flatten()\n",
        "    plt.plot(px, py, \"--r\")\n"
      ],
      "metadata": {
        "id": "F0-ZDiD5h0ZC"
      },
      "execution_count": null,
      "outputs": []
    },
    {
      "cell_type": "code",
      "source": [
        "def EKF_main(SIM_TIME=2.0, show_animation=False, show_covarience=False):\n",
        "    print(\"EKF start!!\")\n",
        "\n",
        "    # time = 0.0\n",
        "\n",
        "    # State Vector X=[x y yaw v]'\n",
        "    xEst = np.zeros((4, 1))\n",
        "    xTrue = np.zeros((4, 1))\n",
        "    PEst = np.eye(4)\n",
        "\n",
        "    xDR = np.zeros((4, 1))  # Dead reckoning\n",
        "\n",
        "    # history\n",
        "    hxEst = xEst\n",
        "    hxTrue = xTrue\n",
        "    hxDR = xTrue\n",
        "    hz = np.zeros((2, 1))\n",
        "    z = np.zeros((2, 1))\n",
        "\n",
        "    fig = plt.figure(figsize=(8, 8))\n",
        "    ax = fig.add_subplot(1, 1, 1)\n",
        "\n",
        "    for k in range(int(SIM_TIME / DT)):\n",
        "\n",
        "        # calculate/update real trjectory/pose every 10ms\n",
        "        u = calc_input()  # * np.array([[1],[0]]) #real movement\n",
        "\n",
        "        if k > SIM_TIME / DT / 2:  # change direction\n",
        "            u = calc_input(ccw=False)\n",
        "\n",
        "        xTrue = motion_model(xTrue, u)  # true position\n",
        "\n",
        "        xDR, ud = observation_IMU_Odom(xDR, u)  # ud = measured movement/input; xDR = dead reckoning position, nothing to do with ekf, just for comparison;\n",
        "\n",
        "        #  Predict\n",
        "        xPred = motion_model(xEst, ud)  #previous state + input = current state(predicted)\n",
        "        jF = jacob_f(xEst, ud)         \n",
        "        PPred = jF @ PEst @ jF.T + Q  # P is covariace matrix of the state,\n",
        "\n",
        "        # at GPS measurement freq\n",
        "        if k % int(f_odom / f_gps) == 0:\n",
        "            z = observation_z(xTrue)  # GPS data\n",
        "            #  Update\n",
        "            jH = jacob_h()\n",
        "            zPred = observation_model(xPred)\n",
        "            y = z - zPred\n",
        "            S = jH @ PPred @ jH.T + R\n",
        "            K = PPred @ jH.T @ np.linalg.inv(S)\n",
        "\n",
        "            xEst = xPred + K @ y\n",
        "            PEst = (np.eye(len(xEst)) - K @ jH) @ PPred  # P is covariace matrix of the state,\n",
        "        else:                                            #(Fossen, 2021, sec. 13.4.4 Modification for Asynchronous Measurement Data)\n",
        "            xEst = xPred\n",
        "            PEst = PPred\n",
        "\n",
        "        # store data history\n",
        "        hxEst = np.hstack((hxEst, xEst))\n",
        "        hxDR = np.hstack((hxDR, xDR))\n",
        "        hxTrue = np.hstack((hxTrue, xTrue))\n",
        "        hz = np.hstack((hz, z))\n",
        "\n",
        "        # ax.set_xlim(auto=True)\n",
        "        ax.cla()\n",
        "        ax.plot(hz[0, :], hz[1, :], \".g\", label=\"GPS\")\n",
        "        ax.plot(\n",
        "            hxTrue[0, :].flatten(), hxTrue[1, :].flatten(), \"-b\", label=\"Ground Truth\"\n",
        "        )\n",
        "        ax.plot(\n",
        "            hxDR[0, :].flatten(), hxDR[1, :].flatten(), \"-k\", label=\"Dead Reckoning\"\n",
        "        )\n",
        "        ax.plot(\n",
        "            hxEst[0, :].flatten(),\n",
        "            hxEst[1, :].flatten(),\n",
        "            color=\"purple\",\n",
        "            ls=\"--\",\n",
        "            lw=1,\n",
        "            marker=\"s\",\n",
        "            markerfacecolor=\"red\",\n",
        "            markersize=2,\n",
        "            label=\"EKF\",\n",
        "        )\n",
        "\n",
        "        if show_covarience:\n",
        "            plot_covariance_ellipse(xEst, PEst)\n",
        "\n",
        "        ax.axis(\"equal\")\n",
        "        ax.grid(True)\n",
        "        ax.legend(loc=\"upper left\")\n",
        "        ax.set_title(\"Time = {:.2f}s\".format(k * DT), fontsize=\"small\", loc=\"left\")\n",
        "        if show_animation:\n",
        "            # plt.pause(0.001)\n",
        "            display(fig)\n",
        "\n",
        "            clear_output(wait=True)\n",
        "            # plt.pause(0.001)\n",
        "\n",
        "    # display(fig)"
      ],
      "metadata": {
        "id": "sea85_5wcDBn"
      },
      "execution_count": null,
      "outputs": []
    },
    {
      "cell_type": "code",
      "source": [
        "def iEKF_main(SIM_TIME=2.0, show_animation=False, show_covarience=False, max_iter=10):\n",
        "    print(\"iEKF start!!\")\n",
        "\n",
        "    # State Vector X=[x y yaw v]'\n",
        "    xEst = np.zeros((4, 1))\n",
        "    xTrue = np.zeros((4, 1))\n",
        "    PEst = np.eye(4)\n",
        "\n",
        "    xDR = np.zeros((4, 1))  # Dead reckoning\n",
        "\n",
        "    # define tolerance\n",
        "    e = 1e-10\n",
        "\n",
        "    # history\n",
        "    hxEst = xEst\n",
        "    hxTrue = xTrue\n",
        "    hxDR = xTrue\n",
        "    hz = np.zeros((2, 1))\n",
        "    z = np.zeros((2, 1))\n",
        "\n",
        "    fig = plt.figure(figsize=(8, 8))\n",
        "    ax = fig.add_subplot(1, 1, 1)\n",
        "\n",
        "    iter_hist = []\n",
        "\n",
        "    for k in range(int(SIM_TIME / DT)):\n",
        "\n",
        "        # calculate/update real trjectory/pose every 10ms\n",
        "        u = calc_input()  # * np.array([[1],[0]]) #real movement\n",
        "\n",
        "        if k > SIM_TIME / DT / 2:  # change direction\n",
        "            u = calc_input(ccw=False)\n",
        "\n",
        "        xTrue = motion_model(xTrue, u)  # true position\n",
        "\n",
        "        xDR, ud = observation_IMU_Odom(xDR, u)  # ud = measured movement/input; xDR = dead reckoning position, nothing to do with ekf, just for comparison;\n",
        "\n",
        "        #  Predict\n",
        "        xPred = motion_model(xEst, ud)\n",
        "        jF = jacob_f(xEst, ud)\n",
        "        PPred = jF @ PEst @ jF.T + Q  # P is covariace matrix of the state,\n",
        "\n",
        "        # at GPS measurement freq\n",
        "        if k % int(f_odom / f_gps) == 0:\n",
        "            z = observation_z(xTrue)  # GPS data\n",
        "            #  Update\n",
        "\n",
        "            # % initialize iterator using state estimation\n",
        "            eta = xPred\n",
        "            eta_l = np.zeros_like(eta)\n",
        "            iter = 1\n",
        "\n",
        "            while (\n",
        "                np.linalg.norm(eta_l - eta, np.inf) / np.linalg.norm(eta_l, np.inf) >= e\n",
        "            ) and (iter <= max_iter):\n",
        "\n",
        "                # % save old eta at begin of loop, except at first iretation\n",
        "                if iter != 0:\n",
        "                    eta = eta_l\n",
        "\n",
        "                jH = jacob_h()\n",
        "                zPred = observation_model(eta)\n",
        "                y = z - zPred\n",
        "                S = jH @ PPred @ jH.T + R\n",
        "                K = PPred @ jH.T @ np.linalg.inv(S)\n",
        "\n",
        "                eta_l = xPred + K @ (y-jH@(xPred-eta)) # eq 63 from slide\n",
        "                iter = iter + 1\n",
        "            iter_hist.append(iter - 1)\n",
        "\n",
        "            xEst = eta_l\n",
        "            PEst = (np.eye(len(xEst)) - K @ jH) @ PPred  # P is covariace matrix of the state,\n",
        "\n",
        "        else:\n",
        "            xEst = xPred\n",
        "            PEst = PPred\n",
        "\n",
        "        # store data history\n",
        "        hxEst = np.hstack((hxEst, xEst))\n",
        "        hxDR = np.hstack((hxDR, xDR))\n",
        "        hxTrue = np.hstack((hxTrue, xTrue))\n",
        "        hz = np.hstack((hz, z))\n",
        "\n",
        "        # ax.set_xlim(auto=True)\n",
        "        ax.cla()\n",
        "        ax.plot(hz[0, :], hz[1, :], \".g\", label=\"GPS\")\n",
        "        ax.plot(\n",
        "            hxTrue[0, :].flatten(), hxTrue[1, :].flatten(), \"-b\", label=\"Ground Truth\"\n",
        "        )\n",
        "        ax.plot(\n",
        "            hxDR[0, :].flatten(), hxDR[1, :].flatten(), \"-k\", label=\"Dead Reckoning\"\n",
        "        )\n",
        "        ax.plot(\n",
        "            hxEst[0, :].flatten(),\n",
        "            hxEst[1, :].flatten(),\n",
        "            color=\"purple\",\n",
        "            ls=\"-\",\n",
        "            lw=1,\n",
        "            marker=\"s\",\n",
        "            markerfacecolor=\"red\",\n",
        "            markersize=2,\n",
        "            label=\"EKF\",\n",
        "        )\n",
        "\n",
        "        if show_covarience:\n",
        "            plot_covariance_ellipse(xEst, PEst)\n",
        "\n",
        "        ax.axis(\"equal\")\n",
        "        ax.grid(True)\n",
        "        ax.legend(loc=\"upper left\")\n",
        "        ax.set_title(\"Time = {:.2f}s\".format(k * DT), fontsize=\"small\", loc=\"left\")\n",
        "        if show_animation:\n",
        "            # plt.pause(0.001)\n",
        "            display(fig)\n",
        "\n",
        "            clear_output(wait=True)\n",
        "            # plt.pause(0.001)\n",
        "\n",
        "    print(iter_hist)  # for debug\n"
      ],
      "metadata": {
        "id": "zCZW5W3pfi0_"
      },
      "execution_count": null,
      "outputs": []
    },
    {
      "cell_type": "code",
      "source": [
        "run_time = 3.2"
      ],
      "metadata": {
        "id": "S3OzE_xEEqa4"
      },
      "execution_count": null,
      "outputs": []
    },
    {
      "cell_type": "code",
      "source": [
        "np.random.seed(0)\n",
        "EKF_main(SIM_TIME = run_time, show_animation = True, show_covarience = False)"
      ],
      "metadata": {
        "colab": {
          "base_uri": "https://localhost:8080/",
          "height": 496
        },
        "id": "WxEZLbDSYlXv",
        "outputId": "cdeb23a0-858f-48e8-d482-557977078280"
      },
      "execution_count": null,
      "outputs": [
        {
          "output_type": "display_data",
          "data": {
            "text/plain": [
              "<Figure size 576x576 with 1 Axes>"
            ],
            "image/png": "[encoded data removed]"
          },
          "metadata": {
            "needs_background": "light"
          }
        }
      ]
    },
    {
      "cell_type": "code",
      "source": [
        "np.random.seed(0)\n",
        "iEKF_main(SIM_TIME = run_time, show_animation = True, show_covarience = False, max_iter=1) #should be same as \"just ekf\""
      ],
      "metadata": {
        "colab": {
          "base_uri": "https://localhost:8080/",
          "height": 513
        },
        "id": "P6vYVd0gw5um",
        "outputId": "b3a2dcc9-99d0-4ebc-aef7-87c7aaccbaac"
      },
      "execution_count": null,
      "outputs": [
        {
          "output_type": "stream",
          "name": "stdout",
          "text": [
            "[1, 1, 1, 1]\n"
          ]
        },
        {
          "output_type": "display_data",
          "data": {
            "text/plain": [
              "<Figure size 576x576 with 1 Axes>"
            ],
            "image/png": "[encoded data removed]"
          },
          "metadata": {
            "needs_background": "light"
          }
        }
      ]
    },
    {
      "cell_type": "code",
      "source": [
        "np.random.seed(0)\n",
        "iEKF_main(SIM_TIME = run_time, show_animation = True, show_covarience = False, max_iter=100)"
      ],
      "metadata": {
        "colab": {
          "base_uri": "https://localhost:8080/",
          "height": 513
        },
        "id": "mJjGpkgD8_bO",
        "outputId": "7b580807-efdb-4691-d2c2-bededee28efb"
      },
      "execution_count": null,
      "outputs": [
        {
          "output_type": "stream",
          "name": "stdout",
          "text": [
            "[2, 2, 2, 2]\n"
          ]
        },
        {
          "output_type": "display_data",
          "data": {
            "text/plain": [
              "<Figure size 576x576 with 1 Axes>"
            ],
            "image/png": "[encoded data removed]"
          },
          "metadata": {
            "needs_background": "light"
          }
        }
      ]
    },
    {
      "cell_type": "code",
      "source": [],
      "metadata": {
        "id": "F9Cd3WARf0N4"
      },
      "execution_count": null,
      "outputs": []
    }
  ]
}